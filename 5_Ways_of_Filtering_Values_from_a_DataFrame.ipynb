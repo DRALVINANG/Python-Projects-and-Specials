{
  "nbformat": 4,
  "nbformat_minor": 0,
  "metadata": {
    "colab": {
      "provenance": [],
      "toc_visible": true
    },
    "kernelspec": {
      "name": "python3",
      "display_name": "Python 3"
    },
    "language_info": {
      "name": "python"
    }
  },
  "cells": [
    {
      "cell_type": "markdown",
      "source": [
        "#METHOD 1: QUERY"
      ],
      "metadata": {
        "id": "SN1jdshMhK05"
      }
    },
    {
      "cell_type": "code",
      "execution_count": 1,
      "metadata": {
        "id": "rJdqP6fzqgKe",
        "colab": {
          "base_uri": "https://localhost:8080/"
        },
        "outputId": "f0a7a995-3ec6-43bc-9e8e-844d83db31ce"
      },
      "outputs": [
        {
          "output_type": "stream",
          "name": "stdout",
          "text": [
            "      Name  Age    City\n",
            "2  Charlie   35   Paris\n",
            "3    David   40   Tokyo\n",
            "4      Eve   45  Sydney\n"
          ]
        }
      ],
      "source": [
        "import pandas as pd\n",
        "\n",
        "# Create a sample DataFrame\n",
        "data = {'Name': ['Alice', 'Bob', 'Charlie', 'David', 'Eve'],\n",
        "        'Age': [25, 30, 35, 40, 45],\n",
        "        'City': ['New York', 'London', 'Paris', 'Tokyo', 'Sydney']}\n",
        "df = pd.DataFrame(data)\n",
        "\n",
        "# Filter rows where Age is greater than 30\n",
        "filtered_df = df.query('Age > 30')\n",
        "print(filtered_df)"
      ]
    },
    {
      "cell_type": "markdown",
      "source": [
        "\n",
        "\n",
        "---\n",
        "\n"
      ],
      "metadata": {
        "id": "bVcHC1Rehs1D"
      }
    },
    {
      "cell_type": "markdown",
      "source": [
        "#METHOD 2: Logical Indexing"
      ],
      "metadata": {
        "id": "bBP9-Y0ShU_b"
      }
    },
    {
      "cell_type": "code",
      "source": [
        "import pandas as pd\n",
        "\n",
        "# Create a sample DataFrame\n",
        "data = {'Name': ['Alice', 'Bob', 'Charlie', 'David', 'Eve'],\n",
        "        'Age': [25, 30, 35, 40, 45],\n",
        "        'City': ['New York', 'London', 'Paris', 'Tokyo', 'Sydney']}\n",
        "df = pd.DataFrame(data)\n",
        "\n",
        "# Filter rows where Age is greater than 30 using logical indexing\n",
        "filtered_df = df[df['Age'] > 30]\n",
        "print(filtered_df)"
      ],
      "metadata": {
        "colab": {
          "base_uri": "https://localhost:8080/"
        },
        "id": "xGUD_EcchtuI",
        "outputId": "68b035cf-168a-4d99-d166-1f75cfe23ce3"
      },
      "execution_count": 2,
      "outputs": [
        {
          "output_type": "stream",
          "name": "stdout",
          "text": [
            "      Name  Age    City\n",
            "2  Charlie   35   Paris\n",
            "3    David   40   Tokyo\n",
            "4      Eve   45  Sydney\n"
          ]
        }
      ]
    },
    {
      "cell_type": "markdown",
      "source": [
        "\n",
        "\n",
        "---\n",
        "\n"
      ],
      "metadata": {
        "id": "OiJddejzhuWA"
      }
    },
    {
      "cell_type": "markdown",
      "source": [
        "#METHOD 3: Lambda and APPLY"
      ],
      "metadata": {
        "id": "USEWOusChbrp"
      }
    },
    {
      "cell_type": "code",
      "source": [
        "import pandas as pd\n",
        "\n",
        "# Create a sample DataFrame\n",
        "data = {'Name': ['Alice', 'Bob', 'Charlie', 'David', 'Eve'],\n",
        "        'Age': [25, 30, 35, 40, 45],\n",
        "        'City': ['New York', 'London', 'Paris', 'Tokyo', 'Sydney']}\n",
        "df = pd.DataFrame(data)\n",
        "\n",
        "# Filter rows where the length of the Name is greater than 4 using lambda\n",
        "filtered_df = df[df['Name'].apply(lambda x: len(x) > 4)]\n",
        "print(filtered_df)"
      ],
      "metadata": {
        "colab": {
          "base_uri": "https://localhost:8080/"
        },
        "id": "HIEeMBm4hxCe",
        "outputId": "bb41cbd1-6c8f-45dc-e816-a39ebd4e6e15"
      },
      "execution_count": 3,
      "outputs": [
        {
          "output_type": "stream",
          "name": "stdout",
          "text": [
            "      Name  Age      City\n",
            "0    Alice   25  New York\n",
            "2  Charlie   35     Paris\n",
            "3    David   40     Tokyo\n"
          ]
        }
      ]
    },
    {
      "cell_type": "markdown",
      "source": [
        "\n",
        "\n",
        "---\n",
        "\n"
      ],
      "metadata": {
        "id": "J4WzMa2ZhxUy"
      }
    },
    {
      "cell_type": "markdown",
      "source": [
        "#METHOD 4: Set and Union then ISIN()"
      ],
      "metadata": {
        "id": "QGchu3Zjhh_Z"
      }
    },
    {
      "cell_type": "code",
      "source": [
        "import pandas as pd\n",
        "\n",
        "# Create a sample DataFrame\n",
        "data = {'Name': ['Alice', 'Bob', 'Charlie', 'David', 'Eve', 'Alice', 'Bob'],\n",
        "        'Age': [25, 30, 35, 40, 45, 25, 30],\n",
        "        'City': ['New York', 'London', 'Paris', 'Tokyo', 'Sydney', 'New York', 'London']}\n",
        "df = pd.DataFrame(data)\n",
        "\n",
        "# Convert the 'Name' column to a set\n",
        "names_set = set(df['Name'])\n",
        "\n",
        "# Define a set of names you want to filter\n",
        "filter_names = {'Alice', 'Charlie', 'Eve'}\n",
        "\n",
        "# Use set union to find the common elements\n",
        "filtered_names = names_set.union(filter_names)\n",
        "\n",
        "# Filter the DataFrame based on the filtered names\n",
        "filtered_df = df[df['Name'].isin(filtered_names)]\n",
        "print(filtered_df)"
      ],
      "metadata": {
        "colab": {
          "base_uri": "https://localhost:8080/"
        },
        "id": "lIMrIGE9hyRn",
        "outputId": "b238098e-a042-4015-9ee9-7b01ce5c38e5"
      },
      "execution_count": 4,
      "outputs": [
        {
          "output_type": "stream",
          "name": "stdout",
          "text": [
            "      Name  Age      City\n",
            "0    Alice   25  New York\n",
            "1      Bob   30    London\n",
            "2  Charlie   35     Paris\n",
            "3    David   40     Tokyo\n",
            "4      Eve   45    Sydney\n",
            "5    Alice   25  New York\n",
            "6      Bob   30    London\n"
          ]
        }
      ]
    },
    {
      "cell_type": "markdown",
      "source": [
        "\n",
        "\n",
        "---\n",
        "\n"
      ],
      "metadata": {
        "id": "kDS8zDxqhykl"
      }
    },
    {
      "cell_type": "markdown",
      "source": [
        "#METHOD 5: STR"
      ],
      "metadata": {
        "id": "KKyj7WMdhmdP"
      }
    },
    {
      "cell_type": "code",
      "source": [
        "import pandas as pd\n",
        "\n",
        "# Create a sample DataFrame\n",
        "data = {'Name': ['Alice', 'Bob', 'Charlie', 'David', 'Eve'],\n",
        "        'Age': [25, 30, 35, 40, 45],\n",
        "        'City': ['New York', 'London', 'Paris', 'Tokyo', 'Sydney']}\n",
        "df = pd.DataFrame(data)\n",
        "\n",
        "# Filter rows where Name starts with 'A'\n",
        "filtered_df = df[df['Name'].str.startswith('A')]\n",
        "print(filtered_df)"
      ],
      "metadata": {
        "colab": {
          "base_uri": "https://localhost:8080/"
        },
        "id": "mxHMpQLphfQO",
        "outputId": "984e681f-ff08-4f64-9942-515695211251"
      },
      "execution_count": 5,
      "outputs": [
        {
          "output_type": "stream",
          "name": "stdout",
          "text": [
            "    Name  Age      City\n",
            "0  Alice   25  New York\n"
          ]
        }
      ]
    },
    {
      "cell_type": "markdown",
      "source": [
        "\n",
        "\n",
        "---\n",
        "\n"
      ],
      "metadata": {
        "id": "OQraF076hzo3"
      }
    },
    {
      "cell_type": "markdown",
      "source": [
        "#THE END\n",
        "\n",
        "---\n",
        "\n"
      ],
      "metadata": {
        "id": "9id24D60h0YJ"
      }
    }
  ]
}